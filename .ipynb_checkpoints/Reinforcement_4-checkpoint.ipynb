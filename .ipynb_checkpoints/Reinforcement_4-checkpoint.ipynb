{
 "cells": [
  {
   "cell_type": "markdown",
   "metadata": {},
   "source": [
    "## Policy-based Agents -- Cart-Pole problem\n",
    "--> Cart위에 막대기를 세워 최대한 오랫동안 버티는 것\n",
    "\n",
    "#### - Observation\n",
    "\n",
    "    1) x: track에서 cart의 위치  \n",
    "    2) theta: pole과 normal line과의 각도  \n",
    "    3) dx/dt: cart의 속도  \n",
    "    4) dtheta/dt: theta의 각속도\n",
    "    \n",
    "#### - Ending condition(of episode)\n",
    "\n",
    "    1) theta가 15도 이상\n",
    "    2) 원점으로부터의 거리가 2.4 units 이상\n",
    "    \n",
    "#### - Action\n",
    "\n",
    "    : cart가 가하는 힘의 방향 (0 or 1)\n",
    "    \n",
    "#### - Reward\n",
    "\n",
    "    : episode가 유지되는 시간\n",
    "    \n",
    "#### - Objective\n",
    "\n",
    "    : Ending condition을 피해 reward를 최대로 -> pole의 균형을 오랫동안 유지"
   ]
  },
  {
   "cell_type": "code",
   "execution_count": 2,
   "metadata": {},
   "outputs": [],
   "source": [
    "import tensorflow as tf\n",
    "import numpy as np\n",
    "import gym"
   ]
  },
  {
   "cell_type": "code",
   "execution_count": 3,
   "metadata": {},
   "outputs": [],
   "source": [
    "env = gym.make('CartPole-v0')"
   ]
  },
  {
   "cell_type": "code",
   "execution_count": 4,
   "metadata": {},
   "outputs": [
    {
     "name": "stdout",
     "output_type": "stream",
     "text": [
      "Reward was :  30.0 , Average reward so far is :  30.0\n",
      "Reward was :  21.0 , Average reward so far is :  25.5\n",
      "Reward was :  12.0 , Average reward so far is :  21.0\n",
      "Reward was :  25.0 , Average reward so far is :  22.0\n",
      "Reward was :  10.0 , Average reward so far is :  19.6\n",
      "Reward was :  42.0 , Average reward so far is :  23.3\n",
      "Reward was :  63.0 , Average reward so far is :  29.0\n",
      "Reward was :  15.0 , Average reward so far is :  27.2\n",
      "Reward was :  15.0 , Average reward so far is :  25.9\n",
      "Reward was :  22.0 , Average reward so far is :  25.5\n",
      "Reward was :  21.0 , Average reward so far is :  25.1\n",
      "Reward was :  10.0 , Average reward so far is :  23.8\n",
      "Reward was :  19.0 , Average reward so far is :  23.5\n",
      "Reward was :  24.0 , Average reward so far is :  23.5\n",
      "Reward was :  13.0 , Average reward so far is :  22.8\n",
      "Reward was :  15.0 , Average reward so far is :  22.3\n",
      "Reward was :  19.0 , Average reward so far is :  22.1\n",
      "Reward was :  17.0 , Average reward so far is :  21.8\n",
      "Reward was :  18.0 , Average reward so far is :  21.6\n",
      "Reward was :  20.0 , Average reward so far is :  21.6\n"
     ]
    }
   ],
   "source": [
    "observation = env.reset()\n",
    "random_episodes = 0\n",
    "reward_sum = 0\n",
    "total_reward = []\n",
    "\n",
    "while random_episodes < 20 :\n",
    "    env.render()\n",
    "    action = env.action_space.sample()\n",
    "    observation, reward, done, _ = env.step(action)\n",
    "    reward_sum += reward\n",
    "    \n",
    "    if done :\n",
    "        random_episodes += 1\n",
    "        total_reward.append(reward_sum)\n",
    "        print(\"Reward was : \", reward_sum, \", Average reward so far is : \", np.round(np.mean(total_reward), 1))\n",
    "        \n",
    "        reward_sum = 0\n",
    "        env.reset()"
   ]
  }
 ],
 "metadata": {
  "kernelspec": {
   "display_name": "Python 3",
   "language": "python",
   "name": "python3"
  },
  "language_info": {
   "codemirror_mode": {
    "name": "ipython",
    "version": 3
   },
   "file_extension": ".py",
   "mimetype": "text/x-python",
   "name": "python",
   "nbconvert_exporter": "python",
   "pygments_lexer": "ipython3",
   "version": "3.5.2"
  }
 },
 "nbformat": 4,
 "nbformat_minor": 2
}

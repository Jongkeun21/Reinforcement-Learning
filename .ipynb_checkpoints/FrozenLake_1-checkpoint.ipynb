{
 "cells": [
  {
   "cell_type": "markdown",
   "metadata": {},
   "source": [
    "## FrozenLake_Q-table\n",
    "\n",
    "    1) Normal  \n",
    "    2) + Stochastic\n",
    "    3) + Exploration"
   ]
  },
  {
   "cell_type": "code",
   "execution_count": 10,
   "metadata": {},
   "outputs": [],
   "source": [
    "import gym\n",
    "import numpy as np\n",
    "import matplotlib.pyplot as plt\n",
    "import random"
   ]
  },
  {
   "cell_type": "code",
   "execution_count": 11,
   "metadata": {},
   "outputs": [],
   "source": [
    "env = gym.make('FrozenLake-v0')"
   ]
  },
  {
   "cell_type": "code",
   "execution_count": 12,
   "metadata": {},
   "outputs": [],
   "source": [
    "Q = np.zeros([env.observation_space.n, env.action_space.n])"
   ]
  },
  {
   "cell_type": "code",
   "execution_count": 13,
   "metadata": {},
   "outputs": [],
   "source": [
    "num_episodes = 1000\n",
    "rList = []    # reward값 들을 저장해놓을 List"
   ]
  },
  {
   "cell_type": "code",
   "execution_count": 14,
   "metadata": {},
   "outputs": [],
   "source": [
    "# Q 값이 모두 같을 때, 랜덤한 값을 리턴해주는 함수\n",
    "def rargmax(vector) :\n",
    "    m = np.amax(vector)    # amax -- array 안에 있는 값들 중 최댓값을 리턴\n",
    "    indices = np.nonzero(vector==m)[0]    # nonzero(조건) -- 조건에 해당하는 값을 리턴\n",
    "    \n",
    "    return random.choice(indices)"
   ]
  },
  {
   "cell_type": "code",
   "execution_count": 15,
   "metadata": {
    "scrolled": true
   },
   "outputs": [],
   "source": [
    "for i in range(num_episodes) :\n",
    "    s = env.reset()\n",
    "    rAll = 0      # reward들의 총 합 \n",
    "    d = False     # process가 끝났는지 확인하는 변수\n",
    "    j = 0         # step\n",
    "    sList = []    # state값 들을 저장해놓을 List\n",
    "    \n",
    "    while not d and j < 250 :\n",
    "        j += 1\n",
    "        a = rargmax(Q[s,:])\n",
    "        s1, r, d, _ = env.step(a)\n",
    "        \n",
    "#         if r == 1 :\n",
    "#             print(sList)\n",
    "        \n",
    "        Q[s,a] = r+np.max(Q[s1,:])\n",
    "        \n",
    "        s = s1\n",
    "        rAll += r\n",
    "        sList.append(s)\n",
    "        \n",
    "    rList.append(rAll)"
   ]
  },
  {
   "cell_type": "code",
   "execution_count": 16,
   "metadata": {},
   "outputs": [
    {
     "name": "stdout",
     "output_type": "stream",
     "text": [
      "Score:  0.023\n"
     ]
    }
   ],
   "source": [
    "print(\"Score: \", sum(rList)/num_episodes)"
   ]
  },
  {
   "cell_type": "markdown",
   "metadata": {},
   "source": [
    "### + stochastic"
   ]
  },
  {
   "cell_type": "code",
   "execution_count": 18,
   "metadata": {},
   "outputs": [],
   "source": [
    "env = gym.make('FrozenLake-v0')\n",
    "Q = np.zeros([env.observation_space.n, env.action_space.n])"
   ]
  },
  {
   "cell_type": "code",
   "execution_count": 21,
   "metadata": {},
   "outputs": [],
   "source": [
    "rList = []\n",
    "df = 0.99    # discounting factor\n",
    "lr = 0.85    # learning rate"
   ]
  },
  {
   "cell_type": "code",
   "execution_count": 22,
   "metadata": {},
   "outputs": [],
   "source": [
    "for i in range(num_episodes) :\n",
    "    s = env.reset()\n",
    "    rAll = 0\n",
    "    d = False\n",
    "    j = 0\n",
    "    sList = []\n",
    "    e = 1./((i/10) + 1)\n",
    "    \n",
    "    while not d and j < 250 :\n",
    "        j += 1\n",
    "        \n",
    "        if e > np.random.rand(1) :\n",
    "            a = env.action_space.sample()\n",
    "        else :\n",
    "            a = rargmax(Q[s,:])\n",
    "            \n",
    "        s1, r, d, _ = env.step(a)\n",
    "        Q[s,a] = Q[s,a]*(1-lr)+lr*(r+df*np.max(Q[s1,:]))\n",
    "        \n",
    "        s = s1\n",
    "        rAll += r\n",
    "        sList.append(s)\n",
    "        \n",
    "    rList.append(r)"
   ]
  },
  {
   "cell_type": "code",
   "execution_count": 23,
   "metadata": {},
   "outputs": [
    {
     "name": "stdout",
     "output_type": "stream",
     "text": [
      "Score:  0.06\n"
     ]
    }
   ],
   "source": [
    "print(\"Score: \", sum(rList)/num_episodes)"
   ]
  },
  {
   "cell_type": "markdown",
   "metadata": {},
   "source": [
    "### + exploration"
   ]
  },
  {
   "cell_type": "code",
   "execution_count": 24,
   "metadata": {},
   "outputs": [],
   "source": [
    "env = gym.make('FrozenLake-v0')\n",
    "Q = np.zeros([env.observation_space.n, env.action_space.n])"
   ]
  },
  {
   "cell_type": "code",
   "execution_count": 25,
   "metadata": {},
   "outputs": [],
   "source": [
    "rList = []\n",
    "df = 0.99"
   ]
  },
  {
   "cell_type": "code",
   "execution_count": 26,
   "metadata": {},
   "outputs": [],
   "source": [
    "for i in range(num_episodes) :\n",
    "    s = env.reset()\n",
    "    rAll = 0\n",
    "    d = False\n",
    "    j = 0\n",
    "    sList = []\n",
    "    e = 1./((i/10) + 1)\n",
    "    \n",
    "    while not d and j < 250 :\n",
    "        j += 1\n",
    "        \n",
    "        if e > np.random.rand(1) :\n",
    "            a = env.action_space.sample()\n",
    "        else :\n",
    "            a = rargmax(Q[s,:])\n",
    "            \n",
    "        s1, r, d, _ = env.step(a)\n",
    "        Q[s,a] = r + (df*np.max(Q[s1,:]))\n",
    "        \n",
    "        s = s1\n",
    "        rAll += r\n",
    "        sList.append(s)\n",
    "        \n",
    "    rList.append(r)"
   ]
  },
  {
   "cell_type": "code",
   "execution_count": 27,
   "metadata": {},
   "outputs": [
    {
     "name": "stdout",
     "output_type": "stream",
     "text": [
      "Score:  0.018\n"
     ]
    }
   ],
   "source": [
    "print(\"Score: \", sum(rList)/num_episodes)"
   ]
  }
 ],
 "metadata": {
  "kernelspec": {
   "display_name": "Python 3",
   "language": "python",
   "name": "python3"
  },
  "language_info": {
   "codemirror_mode": {
    "name": "ipython",
    "version": 3
   },
   "file_extension": ".py",
   "mimetype": "text/x-python",
   "name": "python",
   "nbconvert_exporter": "python",
   "pygments_lexer": "ipython3",
   "version": "3.5.2"
  }
 },
 "nbformat": 4,
 "nbformat_minor": 2
}

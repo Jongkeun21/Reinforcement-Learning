{
 "cells": [
  {
   "cell_type": "markdown",
   "metadata": {},
   "source": [
    "## FrozenLake_Q-Network"
   ]
  },
  {
   "cell_type": "code",
   "execution_count": 1,
   "metadata": {},
   "outputs": [],
   "source": [
    "import tensorflow as tf\n",
    "import numpy as np\n",
    "import gym"
   ]
  },
  {
   "cell_type": "code",
   "execution_count": 2,
   "metadata": {},
   "outputs": [],
   "source": [
    "env = gym.make('FrozenLake-v0')"
   ]
  },
  {
   "cell_type": "code",
   "execution_count": 3,
   "metadata": {},
   "outputs": [],
   "source": [
    "x = tf.placeholder(shape=[1,env.observation_space.n], dtype=tf.float32)\n",
    "y = tf.placeholder(shape=[1,env.action_space.n], dtype=tf.float32)\n",
    "W = tf.Variable(tf.random_uniform((env.observation_space.n, env.action_space.n)))\n",
    "\n",
    "Q_ = tf.matmul(x, W)    # previous state"
   ]
  },
  {
   "cell_type": "markdown",
   "metadata": {},
   "source": [
    "#### ***Hyper parameters***"
   ]
  },
  {
   "cell_type": "code",
   "execution_count": 4,
   "metadata": {},
   "outputs": [],
   "source": [
    "lr = 1e-1     # learning rate\n",
    "num_episodes = 1000\n",
    "e = 0.1       # epsilon\n",
    "df = 0.99      # discounting factor\n",
    "rList = []    # reward list"
   ]
  },
  {
   "cell_type": "code",
   "execution_count": 5,
   "metadata": {},
   "outputs": [],
   "source": [
    "loss = tf.reduce_sum(tf.square(y-Q_))\n",
    "optimizer = tf.train.GradientDescentOptimizer(learning_rate=lr)\n",
    "train = optimizer.minimize(loss)\n",
    "init = tf.global_variables_initializer()"
   ]
  },
  {
   "cell_type": "code",
   "execution_count": 6,
   "metadata": {},
   "outputs": [],
   "source": [
    "def onehot(x) :\n",
    "    return np.identity(env.observation_space.n)[x:x+1]"
   ]
  },
  {
   "cell_type": "code",
   "execution_count": 8,
   "metadata": {},
   "outputs": [
    {
     "name": "stdout",
     "output_type": "stream",
     "text": [
      "  (Right)\n",
      "SFFF\n",
      "\u001b[41mF\u001b[0mHFH\n",
      "FFFH\n",
      "HFFG\n"
     ]
    }
   ],
   "source": [
    "with tf.Session() as sess :\n",
    "    sess.run(init)\n",
    "    env.render()\n",
    "    \n",
    "    for i in range(num_episodes) :\n",
    "        s = env.reset()\n",
    "        rAll = 0\n",
    "        d = False\n",
    "        \n",
    "        while not d :\n",
    "            Q = sess.run(Q_, feed_dict={x: onehot(s)})\n",
    "            \n",
    "            if e > np.random.rand(1) :\n",
    "                a = env.action_space.sample()\n",
    "            else :\n",
    "                a = np.argmax(Q)\n",
    "                \n",
    "            s1, r, d, _ = env.step(a)\n",
    "            Q1 = sess.run(Q_, feed_dict={x: onehot(s1)})\n",
    "            \n",
    "            if d :\n",
    "                Q[0,a] = r\n",
    "            else :\n",
    "                Q[0,a] = r + (df*np.argmax(Q1))\n",
    "                \n",
    "            sess.run(train, feed_dict={x: onehot(s), y: Q})\n",
    "            \n",
    "            rAll += r\n",
    "            s = s1\n",
    "            \n",
    "        rList.append(rAll)"
   ]
  },
  {
   "cell_type": "code",
   "execution_count": 10,
   "metadata": {},
   "outputs": [
    {
     "name": "stdout",
     "output_type": "stream",
     "text": [
      "Score:  0.027\n"
     ]
    }
   ],
   "source": [
    "print(\"Score: \", sum(rList)/num_episodes)"
   ]
  }
 ],
 "metadata": {
  "kernelspec": {
   "display_name": "Python 3",
   "language": "python",
   "name": "python3"
  },
  "language_info": {
   "codemirror_mode": {
    "name": "ipython",
    "version": 3
   },
   "file_extension": ".py",
   "mimetype": "text/x-python",
   "name": "python",
   "nbconvert_exporter": "python",
   "pygments_lexer": "ipython3",
   "version": "3.5.2"
  }
 },
 "nbformat": 4,
 "nbformat_minor": 2
}

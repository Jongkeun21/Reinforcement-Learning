{
 "cells": [
  {
   "cell_type": "markdown",
   "metadata": {},
   "source": [
    "## Q-Table learning in FrozenLake"
   ]
  },
  {
   "cell_type": "code",
   "execution_count": 1,
   "metadata": {},
   "outputs": [],
   "source": [
    "import gym\n",
    "import numpy as np\n",
    "\n",
    "from pprint import pprint"
   ]
  },
  {
   "cell_type": "code",
   "execution_count": 2,
   "metadata": {},
   "outputs": [],
   "source": [
    "env = gym.make('FrozenLake-v0')"
   ]
  },
  {
   "cell_type": "code",
   "execution_count": 10,
   "metadata": {},
   "outputs": [],
   "source": [
    "Q = np.zeros([env.observation_space.n, env.action_space.n])\n",
    "# pprint(Q)"
   ]
  },
  {
   "cell_type": "code",
   "execution_count": 13,
   "metadata": {},
   "outputs": [
    {
     "name": "stdout",
     "output_type": "stream",
     "text": [
      "\n",
      "\u001b[41mS\u001b[0mFFF\n",
      "FHFH\n",
      "FFFH\n",
      "HFFG\n",
      "\n",
      "----------------------------------\n",
      "\n",
      "  (Left)\n",
      "\u001b[41mS\u001b[0mFFF\n",
      "FHFH\n",
      "FFFH\n",
      "HFFG\n",
      "\n",
      "action: 0\n",
      "state: 0 \n",
      "info: 0.333\n",
      "\n",
      "==================================================\n",
      "  (Down)\n",
      "SFFF\n",
      "\u001b[41mF\u001b[0mHFH\n",
      "FFFH\n",
      "HFFG\n",
      "\n",
      "action: 1\n",
      "state: 0 \n",
      "info: 0.333\n",
      "\n",
      "==================================================\n",
      "  (Right)\n",
      "\u001b[41mS\u001b[0mFFF\n",
      "FHFH\n",
      "FFFH\n",
      "HFFG\n",
      "\n",
      "action: 2\n",
      "state: 0 \n",
      "info: 0.333\n",
      "\n",
      "==================================================\n",
      "  (Up)\n",
      "\u001b[41mS\u001b[0mFFF\n",
      "FHFH\n",
      "FFFH\n",
      "HFFG\n",
      "\n",
      "action: 3\n",
      "state: 0 \n",
      "info: 0.333\n",
      "\n",
      "==================================================\n"
     ]
    }
   ],
   "source": [
    "observation = env.reset()\n",
    "env.render()\n",
    "print(\"\\n----------------------------------\\n\")\n",
    "\n",
    "for i in range(env.action_space.n) :\n",
    "    action = i\n",
    "    obsevation, reward, done, info = env.step(action)\n",
    "    env.render()\n",
    "    print('\\naction: %d' %action)\n",
    "    print('state: %d \\ninfo: %.3f' %(observation, info['prob']))\n",
    "    print(\"\\n==================================================\")\n",
    "    \n",
    "    observation = env.reset()"
   ]
  },
  {
   "cell_type": "code",
   "execution_count": 14,
   "metadata": {},
   "outputs": [],
   "source": [
    "# lr --> learning rate\n",
    "# y --> discounting factor\n",
    "\n",
    "lr = 0.8\n",
    "y = 0.95\n",
    "num_episode = 2000\n",
    "\n",
    "rewardList = []"
   ]
  },
  {
   "cell_type": "code",
   "execution_count": 15,
   "metadata": {},
   "outputs": [],
   "source": [
    "for i in range(num_episode) :\n",
    "    s = env.reset()\n",
    "    rAll = 0\n",
    "    d = False\n",
    "    step = 0\n",
    "    \n",
    "    while step < 100 :\n",
    "        step += 1\n",
    "        a = np.argmax(Q[s,:]+np.random.randn(1, env.action_space.n)*(1./(i+1)))\n",
    "        s1, r, d, info = env.step(a)\n",
    "        \n",
    "        Q[s,a] = Q[s,a]+lr*(r +y*np.max(Q[s1,:])-Q[s,a])\n",
    "        \n",
    "        rAll += r\n",
    "        s = s1\n",
    "        \n",
    "        if d :\n",
    "            break\n",
    "            \n",
    "    rewardList.append(rAll)"
   ]
  },
  {
   "cell_type": "code",
   "execution_count": 16,
   "metadata": {},
   "outputs": [
    {
     "name": "stdout",
     "output_type": "stream",
     "text": [
      "Score:  0.6185\n"
     ]
    }
   ],
   "source": [
    "print(\"Score: \", str(sum(rewardList)/num_episode))"
   ]
  },
  {
   "cell_type": "code",
   "execution_count": 17,
   "metadata": {},
   "outputs": [
    {
     "name": "stdout",
     "output_type": "stream",
     "text": [
      "array([[0.108, 0.007, 0.006, 0.012],\n",
      "       [0.006, 0.005, 0.006, 0.121],\n",
      "       [0.002, 0.   , 0.   , 0.168],\n",
      "       [0.006, 0.002, 0.002, 0.103],\n",
      "       [0.113, 0.002, 0.001, 0.001],\n",
      "       [0.   , 0.   , 0.   , 0.   ],\n",
      "       [0.001, 0.111, 0.   , 0.   ],\n",
      "       [0.   , 0.   , 0.   , 0.   ],\n",
      "       [0.001, 0.002, 0.002, 0.49 ],\n",
      "       [0.004, 0.452, 0.003, 0.   ],\n",
      "       [0.766, 0.001, 0.001, 0.   ],\n",
      "       [0.   , 0.   , 0.   , 0.   ],\n",
      "       [0.   , 0.   , 0.   , 0.   ],\n",
      "       [0.   , 0.   , 0.483, 0.008],\n",
      "       [0.   , 0.979, 0.   , 0.   ],\n",
      "       [0.   , 0.   , 0.   , 0.   ]])\n"
     ]
    }
   ],
   "source": [
    "pprint(np.round(Q,3))"
   ]
  },
  {
   "cell_type": "code",
   "execution_count": 18,
   "metadata": {},
   "outputs": [
    {
     "name": "stdout",
     "output_type": "stream",
     "text": [
      "['Left',\n",
      " 'Up',\n",
      " 'Up',\n",
      " 'Up',\n",
      " 'Left',\n",
      " 'hole or goal state',\n",
      " 'Down',\n",
      " 'hole or goal state',\n",
      " 'Up',\n",
      " 'Down',\n",
      " 'Left',\n",
      " 'hole or goal state',\n",
      " 'hole or goal state',\n",
      " 'Right',\n",
      " 'Down',\n",
      " 'hole or goal state']\n"
     ]
    }
   ],
   "source": [
    "action_at_state = []\n",
    "action_set = ['Left', 'Down', 'Right', 'Up']\n",
    "\n",
    "for i in range(len(Q)) :\n",
    "    if np.sum(Q[i]) == 0 :\n",
    "        action_at_state.append('hole or goal state')\n",
    "    else :\n",
    "        idx = np.argmax(Q[i])\n",
    "        action_at_state.append(action_set[idx])\n",
    "        \n",
    "pprint(action_at_state)        "
   ]
  },
  {
   "cell_type": "markdown",
   "metadata": {},
   "source": [
    "## Q-learning with NEURAL NETWORK"
   ]
  },
  {
   "cell_type": "code",
   "execution_count": 19,
   "metadata": {},
   "outputs": [],
   "source": [
    "import tensorflow as tf"
   ]
  },
  {
   "cell_type": "code",
   "execution_count": 20,
   "metadata": {},
   "outputs": [],
   "source": [
    "env = gym.make('FrozenLake-v0')"
   ]
  },
  {
   "cell_type": "code",
   "execution_count": 21,
   "metadata": {},
   "outputs": [],
   "source": [
    "tf.reset_default_graph()"
   ]
  },
  {
   "cell_type": "code",
   "execution_count": 22,
   "metadata": {},
   "outputs": [],
   "source": [
    "inputs1 = tf.placeholder(shape=[1,16], dtype=tf.float32)\n",
    "W = tf.Variable(tf.random_uniform([16,4], 0, 0.01))\n",
    "Q_out = tf.matmul(inputs1, W)\n",
    "predict = tf.argmax(Q_out, 1)"
   ]
  },
  {
   "cell_type": "code",
   "execution_count": 23,
   "metadata": {},
   "outputs": [],
   "source": [
    "next_Q = tf.placeholder(shape=[1,4], dtype=tf.float32)\n",
    "loss = tf.reduce_sum(tf.square(next_Q-Q_out))\n",
    "trainer = tf.train.GradientDescentOptimizer(learning_rate=0.1)\n",
    "updateModel = trainer.minimize(loss)"
   ]
  },
  {
   "cell_type": "code",
   "execution_count": 29,
   "metadata": {},
   "outputs": [],
   "source": [
    "init = tf.global_variables_initializer()\n",
    "\n",
    "y = 0.99\n",
    "e = 0.1\n",
    "num_episodes = 2000\n",
    "\n",
    "jList = []\n",
    "rList = []\n",
    "\n",
    "with tf.Session() as sess :\n",
    "    sess.run(init)\n",
    "    \n",
    "    for i in range(num_episodes) :\n",
    "        s = env.reset()\n",
    "        rAll = 0\n",
    "        d = False\n",
    "        step = 0\n",
    "        \n",
    "        while step < 500 :\n",
    "            step += 1\n",
    "            a, all_Q = sess.run([predict, Q_out], feed_dict={inputs1: np.identity(16)[s:s+1]})\n",
    "            \n",
    "            if np.random.rand(1) < e :\n",
    "                a[0] = env.action_space.sample()\n",
    "                \n",
    "            s1, r, d, _ = env.step(a[0])\n",
    "            \n",
    "            Q1 = sess.run(Q_out, feed_dict={inputs1: np.identity(16)[s:s+1]})\n",
    "            \n",
    "            max_Q1 = np.max(Q1)\n",
    "            target_Q = all_Q\n",
    "            target_Q[0, a[0]] = r+y*max_Q1\n",
    "            \n",
    "            _, W1 = sess.run([updateModel, W], feed_dict={inputs1: np.identity(16)[s:s+1], next_Q: target_Q})\n",
    "            \n",
    "            rAll += r\n",
    "            s = s1\n",
    "            \n",
    "            if d :\n",
    "                e = 1./((i+50)+10)\n",
    "                break\n",
    "                \n",
    "        jList.append(step)\n",
    "        rList.append(rAll)"
   ]
  },
  {
   "cell_type": "code",
   "execution_count": 30,
   "metadata": {},
   "outputs": [
    {
     "name": "stdout",
     "output_type": "stream",
     "text": [
      "Score:  0.0105\n"
     ]
    }
   ],
   "source": [
    "print(\"Score: \", str(sum(rList)/num_episodes))"
   ]
  }
 ],
 "metadata": {
  "kernelspec": {
   "display_name": "Python 3",
   "language": "python",
   "name": "python3"
  },
  "language_info": {
   "codemirror_mode": {
    "name": "ipython",
    "version": 3
   },
   "file_extension": ".py",
   "mimetype": "text/x-python",
   "name": "python",
   "nbconvert_exporter": "python",
   "pygments_lexer": "ipython3",
   "version": "3.5.2"
  }
 },
 "nbformat": 4,
 "nbformat_minor": 2
}

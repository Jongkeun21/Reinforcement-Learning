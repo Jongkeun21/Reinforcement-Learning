{
 "cells": [
  {
   "cell_type": "markdown",
   "metadata": {},
   "source": [
    "## Multi-armed Bandit Problem --> epsilon greedy\n",
    "\n",
    "#### - Constraints\n",
    "    \n",
    "    1) 각 arm은 각기 다른 reward를 제공      \n",
    "    2) 제한된 시간 내에 제한된 횟수만큼 arm을 이용      \n",
    "    3) 한 번에 하나의 arm을 당길 수 있음\n",
    "    \n",
    "#### - Objective\n",
    "\n",
    "    : 정해진 시간 내에 총 reward를 maximize하는 policy를 찾는 것"
   ]
  },
  {
   "cell_type": "code",
   "execution_count": 1,
   "metadata": {},
   "outputs": [],
   "source": [
    "import tensorflow as tf\n",
    "import numpy as np"
   ]
  },
  {
   "cell_type": "code",
   "execution_count": 2,
   "metadata": {},
   "outputs": [],
   "source": [
    "def pullBandit(bandit) :\n",
    "    result = np.random.randn(1)\n",
    "    \n",
    "    if result > bandit :\n",
    "        return 1\n",
    "    else :\n",
    "        return -1"
   ]
  },
  {
   "cell_type": "code",
   "execution_count": 3,
   "metadata": {},
   "outputs": [],
   "source": [
    "bandits = [0.2, 0, -0.2, -5]\n",
    "num_bandits = len(bandits)"
   ]
  },
  {
   "cell_type": "markdown",
   "metadata": {},
   "source": [
    "### ***The agent***"
   ]
  },
  {
   "cell_type": "code",
   "execution_count": 5,
   "metadata": {},
   "outputs": [],
   "source": [
    "tf.reset_default_graph()\n",
    "\n",
    "weights = tf.Variable(tf.ones([num_bandits]))\n",
    "chosen_action = tf.argmax(weights, 0)\n",
    "\n",
    "reward_holder = tf.placeholder(shape=[1], dtype=tf.float32)\n",
    "action_holder = tf.placeholder(shape=[1], dtype=tf.int32)\n",
    "\n",
    "responsible_weight = tf.slice(weights, action_holder, [1])\n",
    "\n",
    "loss = -(tf.log(responsible_weight)*reward_holder)\n",
    "optimizer = tf.train.GradientDescentOptimizer(learning_rate=1e-3)\n",
    "update = optimizer.minimize(loss)"
   ]
  },
  {
   "cell_type": "markdown",
   "metadata": {},
   "source": [
    "### ***Training***"
   ]
  },
  {
   "cell_type": "code",
   "execution_count": 6,
   "metadata": {},
   "outputs": [
    {
     "name": "stdout",
     "output_type": "stream",
     "text": [
      "Running reward for the  4  bandits:  [-1.  0.  0.  0.]\n",
      "Running reward for the  4  bandits:  [-1.  1. -1. 42.]\n",
      "Running reward for the  4  bandits:  [ 0.  0. -2. 89.]\n",
      "Running reward for the  4  bandits:  [ -2.   1.  -3. 135.]\n",
      "Running reward for the  4  bandits:  [ -2.   1.  -5. 181.]\n",
      "Running reward for the  4  bandits:  [ -1.  -1.  -5. 224.]\n",
      "Running reward for the  4  bandits:  [ -2.  -1.  -5. 269.]\n",
      "Running reward for the  4  bandits:  [ -2.  -2.  -6. 313.]\n",
      "Running reward for the  4  bandits:  [ -1.  -5.  -5. 358.]\n",
      "Running reward for the  4  bandits:  [ -1.  -4.  -5. 407.]\n",
      "Running reward for the  4  bandits:  [ -3.  -3.  -5. 454.]\n",
      "Running reward for the  4  bandits:  [ -3.  -3.  -4. 503.]\n",
      "Running reward for the  4  bandits:  [ -2.  -4.  -3. 550.]\n",
      "Running reward for the  4  bandits:  [ -1.  -4.  -2. 596.]\n",
      "Running reward for the  4  bandits:  [ -1.  -6.  -1. 639.]\n",
      "Running reward for the  4  bandits:  [ -1.  -6.   0. 688.]\n",
      "Running reward for the  4  bandits:  [ -1.  -6.   0. 736.]\n",
      "Running reward for the  4  bandits:  [ -4.  -5.   1. 781.]\n",
      "Running reward for the  4  bandits:  [ -1.  -7.   1. 826.]\n",
      "Running reward for the  4  bandits:  [ -2.  -7.   0. 874.]\n"
     ]
    }
   ],
   "source": [
    "EPOCHS = 1000\n",
    "total_reward = np.zeros(num_bandits)\n",
    "e = 0.1    # epsilon\n",
    "\n",
    "init = tf.global_variables_initializer()\n",
    "\n",
    "with tf.Session() as sess :\n",
    "    sess.run(init)\n",
    "    \n",
    "    for i in range(EPOCHS) :\n",
    "        if np.random.rand(1) < e :\n",
    "            action = np.random.randint(num_bandits)\n",
    "        else :\n",
    "            action = sess.run(chosen_action)\n",
    "            \n",
    "        reward = pullBandit(bandits[action])\n",
    "        _, resp, W = sess.run([update, responsible_weight, weights], feed_dict={reward_holder: [reward], action_holder: [action]})\n",
    "        total_reward[action] += reward\n",
    "    \n",
    "        if i%50 == 0 :\n",
    "            print(\"Running reward for the \", num_bandits, \" bandits: \", total_reward)"
   ]
  },
  {
   "cell_type": "markdown",
   "metadata": {},
   "source": [
    "#### ***Prediction***"
   ]
  },
  {
   "cell_type": "code",
   "execution_count": 7,
   "metadata": {},
   "outputs": [
    {
     "name": "stdout",
     "output_type": "stream",
     "text": [
      "Right\n"
     ]
    }
   ],
   "source": [
    "if np.argmax(W) == np.argmax(-np.array(bandits)) :\n",
    "    print(\"Right\")\n",
    "else :\n",
    "    print(\"Wrong\")"
   ]
  }
 ],
 "metadata": {
  "kernelspec": {
   "display_name": "Python 3",
   "language": "python",
   "name": "python3"
  },
  "language_info": {
   "codemirror_mode": {
    "name": "ipython",
    "version": 3
   },
   "file_extension": ".py",
   "mimetype": "text/x-python",
   "name": "python",
   "nbconvert_exporter": "python",
   "pygments_lexer": "ipython3",
   "version": "3.5.2"
  }
 },
 "nbformat": 4,
 "nbformat_minor": 2
}
